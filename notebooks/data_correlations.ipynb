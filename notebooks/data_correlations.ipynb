{
 "cells": [
  {
   "cell_type": "code",
   "execution_count": 99,
   "id": "1bcf5ed0-82df-45c0-a1cb-ee88cc0e3734",
   "metadata": {},
   "outputs": [],
   "source": [
    "import zipfile as zf\n",
    "import numpy as np\n",
    "import pandas as pd\n",
    "import matplotlib.pyplot as plt"
   ]
  },
  {
   "cell_type": "code",
   "execution_count": 114,
   "id": "fa2e6a83-4749-469f-b2f9-9cf25dd24fa0",
   "metadata": {},
   "outputs": [],
   "source": [
    "def extract(path, filename):\n",
    "    archive = zf.ZipFile(path)\n",
    "    file = archive.open(filename)\n",
    "    return file"
   ]
  },
  {
   "cell_type": "code",
   "execution_count": 138,
   "id": "21702601-4bfb-482e-b310-9bbb24883ac5",
   "metadata": {},
   "outputs": [
    {
     "ename": "FileNotFoundError",
     "evalue": "[Errno 2] No such file or directory: 'StackOverflowSurvey2019'",
     "output_type": "error",
     "traceback": [
      "\u001b[0;31m---------------------------------------------------------------------------\u001b[0m",
      "\u001b[0;31mFileNotFoundError\u001b[0m                         Traceback (most recent call last)",
      "Cell \u001b[0;32mIn[138], line 2\u001b[0m\n\u001b[1;32m      1\u001b[0m \u001b[38;5;28;01mfor\u001b[39;00m i \u001b[38;5;129;01min\u001b[39;00m \u001b[38;5;28mrange\u001b[39m(\u001b[38;5;241m2019\u001b[39m, \u001b[38;5;241m2024\u001b[39m):\n\u001b[0;32m----> 2\u001b[0m     df \u001b[38;5;241m=\u001b[39m pd\u001b[38;5;241m.\u001b[39mread_csv(extract(\u001b[38;5;124m'\u001b[39m\u001b[38;5;124mStackOverflowSurvey\u001b[39m\u001b[38;5;124m'\u001b[39m \u001b[38;5;241m+\u001b[39m \u001b[38;5;28mstr\u001b[39m(i),\u001b[38;5;124m'\u001b[39m\u001b[38;5;124msurvey.csv\u001b[39m\u001b[38;5;124m'\u001b[39m))\n",
      "Cell \u001b[0;32mIn[114], line 2\u001b[0m, in \u001b[0;36mextract\u001b[0;34m(path, filename)\u001b[0m\n\u001b[1;32m      1\u001b[0m \u001b[38;5;28;01mdef\u001b[39;00m \u001b[38;5;21mextract\u001b[39m(path, filename):\n\u001b[0;32m----> 2\u001b[0m     archive \u001b[38;5;241m=\u001b[39m zf\u001b[38;5;241m.\u001b[39mZipFile(path)\n\u001b[1;32m      3\u001b[0m     file \u001b[38;5;241m=\u001b[39m archive\u001b[38;5;241m.\u001b[39mopen(filename)\n\u001b[1;32m      4\u001b[0m     \u001b[38;5;28;01mreturn\u001b[39;00m file\n",
      "File \u001b[0;32m/opt/anaconda3/lib/python3.11/zipfile.py:1284\u001b[0m, in \u001b[0;36mZipFile.__init__\u001b[0;34m(self, file, mode, compression, allowZip64, compresslevel, strict_timestamps, metadata_encoding)\u001b[0m\n\u001b[1;32m   1282\u001b[0m \u001b[38;5;28;01mwhile\u001b[39;00m \u001b[38;5;28;01mTrue\u001b[39;00m:\n\u001b[1;32m   1283\u001b[0m     \u001b[38;5;28;01mtry\u001b[39;00m:\n\u001b[0;32m-> 1284\u001b[0m         \u001b[38;5;28mself\u001b[39m\u001b[38;5;241m.\u001b[39mfp \u001b[38;5;241m=\u001b[39m io\u001b[38;5;241m.\u001b[39mopen(file, filemode)\n\u001b[1;32m   1285\u001b[0m     \u001b[38;5;28;01mexcept\u001b[39;00m \u001b[38;5;167;01mOSError\u001b[39;00m:\n\u001b[1;32m   1286\u001b[0m         \u001b[38;5;28;01mif\u001b[39;00m filemode \u001b[38;5;129;01min\u001b[39;00m modeDict:\n",
      "\u001b[0;31mFileNotFoundError\u001b[0m: [Errno 2] No such file or directory: 'StackOverflowSurvey2019'"
     ]
    }
   ],
   "source": [
    "for i in range(2019, 2024):\n",
    "    df = pd.read_csv(extract('StackOverflowSurvey' + str(i),'survey.csv'))"
   ]
  }
 ],
 "metadata": {
  "kernelspec": {
   "display_name": "Python 3 (ipykernel)",
   "language": "python",
   "name": "python3"
  },
  "language_info": {
   "codemirror_mode": {
    "name": "ipython",
    "version": 3
   },
   "file_extension": ".py",
   "mimetype": "text/x-python",
   "name": "python",
   "nbconvert_exporter": "python",
   "pygments_lexer": "ipython3",
   "version": "3.11.7"
  }
 },
 "nbformat": 4,
 "nbformat_minor": 5
}
