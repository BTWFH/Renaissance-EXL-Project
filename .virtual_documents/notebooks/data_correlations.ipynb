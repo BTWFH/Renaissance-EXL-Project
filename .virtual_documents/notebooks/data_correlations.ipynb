import zipfile as zf
import numpy as np
import pandas as pd
import matplotlib.pyplot as plt


def extract(path, filename):
    archive = zf.ZipFile(path)
    file = archive.open(filename)
    return file


for i in range(2019, 2024):
    df = pd.read_csv(extract('StackOverflowSurvey' + str(i),'survey.csv'))
