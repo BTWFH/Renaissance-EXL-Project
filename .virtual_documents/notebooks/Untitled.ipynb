import zipfile as zip
import numpy as np
import pandas as pd
import matplotlib.pyplot as plt


def extract(path, filename):
    archive = zip.ZipFile(path)
    file = archive.open()
