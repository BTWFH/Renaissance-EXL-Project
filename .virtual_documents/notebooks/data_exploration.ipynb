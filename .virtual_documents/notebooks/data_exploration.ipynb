import pandas as pd
import numpy as np
import seaborn as sns
import matplotlib.pyplot as plt
import zipfile as zf
import re


archive = zf.ZipFile('../data/StackOverflowSurvey2023.zip')
file = archive.open('survey.csv')
sodf = pd.read_csv(file)


sodf.columns.tolist()





pd.options.display.max_columns = None


sodf.head(10)


sodf.shape


sodf.describe()


def remove_all(list, item): 
    count = list.count(item) 
    for i in range(count): 
        list.remove(item) 
    return list 


langs = []
responses = remove_all(sodf['LanguageHaveWorkedWith'].to_list(), np.nan)
for response in responses:
    temp_langs = re.findall("[^;]+", response)
    for lang in temp_langs:
        if not lang in langs:
            langs.append(lang)

counts = [0] * (len(langs))
for response in responses:
    temp_langs = re.findall("[^;]+", response)
    for lang in temp_langs:
        index = langs.index(lang)
        counts[index] += 1
        
users_df = pd.DataFrame(data={'Language':langs,'Count':counts})
users_df = users_df.sort_values('Language')


sns.set_theme(style='white', rc={'figure.figsize':(10,5)})
graph = sns.barplot(data=users_df, x='Language', y='Count', hue='Language', gap=0.4)
graph.set_xticks(graph.get_xticks())
graph.set_xticklabels(graph.get_xticklabels(), rotation=90)
graph.set_ylabel('Users')
graph.set_title('Used Languages')


langs = []
responses = remove_all(sodf['LanguageWantToWorkWith'].to_list(), np.nan)
for response in responses:
    temp_langs = re.findall("[^;]+", response)
    for lang in temp_langs:
        if not lang in langs:
            langs.append(lang)

counts = [0] * (len(langs))
for response in responses:
    temp_langs = re.findall("[^;]+", response)
    for lang in temp_langs:
        index = langs.index(lang)
        counts[index] += 1
        
desired_df = pd.DataFrame(data={'Language':langs,'Count':counts})
desired_df = desired_df.sort_values('Language')


graph = sns.barplot(data=desired_df, x='Language', y='Count', hue='Language', gap=0.4)
graph.set_xticks(graph.get_xticks())
graph.set_xticklabels(graph.get_xticklabels(), rotation=90)
graph.set_ylabel('Users')
graph.set_title('Desired Languages')


users_df['Count'].corr(desired_df['Count'])


archive = zf.ZipFile('../data/JetBrainsSurvey.zip')
file = archive.open('survey.csv')
jbdf = pd.read_csv(file, low_memory=False)


jbdf.columns.tolist()





jbdf.head(10)


jbdf.shape


jbdf.describe()





long_df = jbdf.melt(value_vars=jbdf.columns[221:259], value_name='Language')
long_df = long_df.drop(columns=['variable'])
proglang_counts = long_df['Language'].value_counts().reset_index()
proglang_counts.columns = ['Language', 'Count']
proglang_counts = proglang_counts.sort_values('Language')
print(proglang_counts)


long_df = jbdf.melt(value_vars=jbdf.columns[259:296], value_name='Language')
long_df = long_df.drop(columns=['variable'])
primarylang_counts = long_df['Language'].value_counts().reset_index()
primarylang_counts.columns = ['Language', 'Count']
primarylang_counts = primarylang_counts.sort_values('Language')
print(primarylang_counts)


long_df = jbdf.melt(value_vars=jbdf.columns[296:334], value_name='Language')
long_df = long_df.drop(columns=['variable'])
adoptlang_counts = long_df['Language'].value_counts().reset_index()
adoptlang_counts.columns = ['Language', 'Count']
adoptlang_counts = primarylang_counts.sort_values('Language')
print(adoptlang_counts)


graph = sns.barplot(data=proglang_counts, x='Language', y='Count', hue='Language', gap=0.2)
graph.set_xticks(graph.get_xticks())
graph.set_xticklabels(graph.get_xticklabels(), rotation=90)
graph.set_ylabel('Users')
graph.set_title('Used Languages')


graph = sns.barplot(data=primarylang_counts, x='Language', y='Count', hue='Language', gap=0.4)
graph.set_xticks(graph.get_xticks())
graph.set_xticklabels(graph.get_xticklabels(), rotation=90)
graph.set_ylabel('Users')
graph.set_title('Primary Languages')


graph = sns.barplot(data=adoptlang_counts, x='Language', y='Count', hue='Language', gap=0.4)
graph.set_xticks(graph.get_xticks())
graph.set_xticklabels(graph.get_xticklabels(), rotation=90)
graph.set_ylabel('Users')
graph.set_title('Desired Languages')
